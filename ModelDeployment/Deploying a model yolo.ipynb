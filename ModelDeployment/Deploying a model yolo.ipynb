{
 "cells": [
  {
   "cell_type": "code",
   "execution_count": 1,
   "metadata": {},
   "outputs": [],
   "source": [
    "from azurewrapper.workspace import get_workspace\n",
    "\n",
    "# subscription_id = \"29d66431-a7ce-4709-93f7-3bdb01a243b3\"\n",
    "# resource_group = \"ExperimentationJayke\"\n",
    "# workspace_name = \"ExperimentationJayke\"\n",
    "subscription_id = \"a00eaec6-b320-4e7c-ae61-60a30aec1cfc\"\n",
    "resource_group = \"MachineLearning\"\n",
    "workspace_name = \"RiverImageAnalysis\"\n",
    "tenant_id = \"86f9fea7-9eb0-4325-8b58-7ed0db623956\"\n",
    "\n",
    "workspace = get_workspace(subscription_id, resource_group, workspace_name, tenant_id=tenant_id)"
   ]
  },
  {
   "cell_type": "code",
   "execution_count": 2,
   "metadata": {},
   "outputs": [],
   "source": [
    "from azureml.core import Model\n",
    "\n",
    "model = Model(workspace, \"yolo_v4\")"
   ]
  },
  {
   "cell_type": "code",
   "execution_count": 3,
   "metadata": {},
   "outputs": [
    {
     "name": "stdout",
     "output_type": "stream",
     "text": [
      "No environment with that name found, creating new one\n"
     ]
    }
   ],
   "source": [
    "from azurewrapper.environment import get_environment\n",
    "\n",
    "environment = get_environment(\n",
    "    workspace,\n",
    "    \"tensorflow-yolo\",\n",
    "    pip_requirements=\"./examples/yolo/Tensorflow_YOLO/requirements.txt\",\n",
    "    docker_image=\"mcr.microsoft.com/azureml/openmpi3.1.2-cuda10.1-cudnn7-ubuntu18.04\"\n",
    ")"
   ]
  },
  {
   "cell_type": "code",
   "execution_count": 4,
   "metadata": {},
   "outputs": [
    {
     "name": "stdout",
     "output_type": "stream",
     "text": [
      "Downloading model yolo_v4:2 to /tmp/azureml_tglellq6/yolo_v4/2\n",
      "Generating Docker build context.\n",
      "Package creation Succeeded\n",
      "Logging into Docker registry 0ea7be47d3e548c3bd0de28701c8bddf.azurecr.io\n",
      "Logging into Docker registry 0ea7be47d3e548c3bd0de28701c8bddf.azurecr.io\n",
      "Building Docker image from Dockerfile...\n",
      "Step 1/5 : FROM 0ea7be47d3e548c3bd0de28701c8bddf.azurecr.io/azureml/azureml_2cac586b0b89d3965a18f9a23b0e8888\n",
      " ---> 8f9c70783517\n",
      "Step 2/5 : COPY azureml-app /var/azureml-app\n",
      " ---> db72f77902dc\n",
      "Step 3/5 : RUN mkdir -p '/var/azureml-app' && echo eyJhY2NvdW50Q29udGV4dCI6eyJzdWJzY3JpcHRpb25JZCI6ImEwMGVhZWM2LWIzMjAtNGU3Yy1hZTYxLTYwYTMwYWVjMWNmYyIsInJlc291cmNlR3JvdXBOYW1lIjoibWFjaGluZWxlYXJuaW5nIiwiYWNjb3VudE5hbWUiOiJyaXZlcmltYWdlYW5hbHlzaXMiLCJ3b3Jrc3BhY2VJZCI6IjBlYTdiZTQ3LWQzZTUtNDhjMy1iZDBkLWUyODcwMWM4YmRkZiJ9LCJtb2RlbHMiOnt9LCJtb2RlbHNJbmZvIjp7fX0= | base64 --decode > /var/azureml-app/model_config_map.json\n",
      " ---> Running in a5b87665acd9\n",
      " ---> 2d11bb4c36ad\n",
      "Step 4/5 : RUN mv '/var/azureml-app/tmp10unxfys.py' /var/azureml-app/main.py\n",
      " ---> Running in e04e96608ac2\n",
      " ---> fd962d2de078\n",
      "Step 5/5 : CMD [\"runsvdir\",\"/var/runit\"]\n",
      " ---> Running in 9430788b4fbc\n",
      " ---> d7f4677fa367\n",
      "Successfully built d7f4677fa367\n",
      "Successfully tagged testdeploy2:latest\n",
      "Starting Docker container...\n",
      "Docker container running.\n",
      "Checking container health...\n",
      "Local webservice is running at http://localhost:8890\n"
     ]
    }
   ],
   "source": [
    "from azurewrapper.deploy import deploy\n",
    "service = deploy(\n",
    "    workspace,\n",
    "    \"testdeploy2\",\n",
    "    model,\n",
    "    \"score.py\",\n",
    "    \"examples/yolo\",\n",
    "    environment=environment\n",
    ")\n",
    "service.wait_for_deployment(show_output = True)"
   ]
  },
  {
   "cell_type": "code",
   "execution_count": null,
   "metadata": {},
   "outputs": [],
   "source": [
    "service.get_logs()"
   ]
  },
  {
   "cell_type": "code",
   "execution_count": 12,
   "metadata": {},
   "outputs": [
    {
     "name": "stdout",
     "output_type": "stream",
     "text": [
      "Container has been successfully cleaned up.\n",
      "Starting Docker container...\n",
      "Docker container running.\n"
     ]
    }
   ],
   "source": [
    "service.reload()"
   ]
  },
  {
   "cell_type": "code",
   "execution_count": 13,
   "metadata": {},
   "outputs": [
    {
     "name": "stdout",
     "output_type": "stream",
     "text": [
      "Container has been successfully cleaned up.\n"
     ]
    }
   ],
   "source": [
    "service.delete()"
   ]
  }
 ],
 "metadata": {
  "kernelspec": {
   "display_name": "toc_azureml",
   "language": "python",
   "name": "toc_azureml"
  },
  "language_info": {
   "codemirror_mode": {
    "name": "ipython",
    "version": 3
   },
   "file_extension": ".py",
   "mimetype": "text/x-python",
   "name": "python",
   "nbconvert_exporter": "python",
   "pygments_lexer": "ipython3",
   "version": "3.6.9"
  }
 },
 "nbformat": 4,
 "nbformat_minor": 4
}
